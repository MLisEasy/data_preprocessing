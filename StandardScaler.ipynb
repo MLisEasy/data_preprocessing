{
  "nbformat": 4,
  "nbformat_minor": 0,
  "metadata": {
    "colab": {
      "provenance": [],
      "collapsed_sections": []
    },
    "kernelspec": {
      "name": "python3",
      "display_name": "Python 3"
    },
    "language_info": {
      "name": "python"
    }
  },
  "cells": [
    {
      "cell_type": "code",
      "execution_count": 1,
      "metadata": {
        "id": "Bm_uIRJ3dIk1"
      },
      "outputs": [],
      "source": [
        "import seaborn as sns"
      ]
    },
    {
      "cell_type": "code",
      "source": [
        "sns.get_dataset_names()"
      ],
      "metadata": {
        "colab": {
          "base_uri": "https://localhost:8080/"
        },
        "id": "g9DlSq6hdPRH",
        "outputId": "3ddf8203-5280-4710-f49e-60384a4a971c"
      },
      "execution_count": 2,
      "outputs": [
        {
          "output_type": "execute_result",
          "data": {
            "text/plain": [
              "['anagrams',\n",
              " 'anscombe',\n",
              " 'attention',\n",
              " 'brain_networks',\n",
              " 'car_crashes',\n",
              " 'diamonds',\n",
              " 'dots',\n",
              " 'dowjones',\n",
              " 'exercise',\n",
              " 'flights',\n",
              " 'fmri',\n",
              " 'geyser',\n",
              " 'glue',\n",
              " 'healthexp',\n",
              " 'iris',\n",
              " 'mpg',\n",
              " 'penguins',\n",
              " 'planets',\n",
              " 'seaice',\n",
              " 'taxis',\n",
              " 'tips',\n",
              " 'titanic']"
            ]
          },
          "metadata": {},
          "execution_count": 2
        }
      ]
    },
    {
      "cell_type": "code",
      "source": [
        "df = sns.load_dataset('titanic')"
      ],
      "metadata": {
        "id": "kUzZDUyudX6F"
      },
      "execution_count": 3,
      "outputs": []
    },
    {
      "cell_type": "code",
      "source": [
        "df.head()"
      ],
      "metadata": {
        "colab": {
          "base_uri": "https://localhost:8080/",
          "height": 206
        },
        "id": "OpcovBucdeQN",
        "outputId": "1b6862c8-1414-4f7a-df9e-decb5b98fbd2"
      },
      "execution_count": 4,
      "outputs": [
        {
          "output_type": "execute_result",
          "data": {
            "text/plain": [
              "   survived  pclass     sex   age  sibsp  parch     fare embarked  class  \\\n",
              "0         0       3    male  22.0      1      0   7.2500        S  Third   \n",
              "1         1       1  female  38.0      1      0  71.2833        C  First   \n",
              "2         1       3  female  26.0      0      0   7.9250        S  Third   \n",
              "3         1       1  female  35.0      1      0  53.1000        S  First   \n",
              "4         0       3    male  35.0      0      0   8.0500        S  Third   \n",
              "\n",
              "     who  adult_male deck  embark_town alive  alone  \n",
              "0    man        True  NaN  Southampton    no  False  \n",
              "1  woman       False    C    Cherbourg   yes  False  \n",
              "2  woman       False  NaN  Southampton   yes   True  \n",
              "3  woman       False    C  Southampton   yes  False  \n",
              "4    man        True  NaN  Southampton    no   True  "
            ],
            "text/html": [
              "\n",
              "  <div id=\"df-49a37e83-6fbd-4a5f-a283-700a35382f6b\">\n",
              "    <div class=\"colab-df-container\">\n",
              "      <div>\n",
              "<style scoped>\n",
              "    .dataframe tbody tr th:only-of-type {\n",
              "        vertical-align: middle;\n",
              "    }\n",
              "\n",
              "    .dataframe tbody tr th {\n",
              "        vertical-align: top;\n",
              "    }\n",
              "\n",
              "    .dataframe thead th {\n",
              "        text-align: right;\n",
              "    }\n",
              "</style>\n",
              "<table border=\"1\" class=\"dataframe\">\n",
              "  <thead>\n",
              "    <tr style=\"text-align: right;\">\n",
              "      <th></th>\n",
              "      <th>survived</th>\n",
              "      <th>pclass</th>\n",
              "      <th>sex</th>\n",
              "      <th>age</th>\n",
              "      <th>sibsp</th>\n",
              "      <th>parch</th>\n",
              "      <th>fare</th>\n",
              "      <th>embarked</th>\n",
              "      <th>class</th>\n",
              "      <th>who</th>\n",
              "      <th>adult_male</th>\n",
              "      <th>deck</th>\n",
              "      <th>embark_town</th>\n",
              "      <th>alive</th>\n",
              "      <th>alone</th>\n",
              "    </tr>\n",
              "  </thead>\n",
              "  <tbody>\n",
              "    <tr>\n",
              "      <th>0</th>\n",
              "      <td>0</td>\n",
              "      <td>3</td>\n",
              "      <td>male</td>\n",
              "      <td>22.0</td>\n",
              "      <td>1</td>\n",
              "      <td>0</td>\n",
              "      <td>7.2500</td>\n",
              "      <td>S</td>\n",
              "      <td>Third</td>\n",
              "      <td>man</td>\n",
              "      <td>True</td>\n",
              "      <td>NaN</td>\n",
              "      <td>Southampton</td>\n",
              "      <td>no</td>\n",
              "      <td>False</td>\n",
              "    </tr>\n",
              "    <tr>\n",
              "      <th>1</th>\n",
              "      <td>1</td>\n",
              "      <td>1</td>\n",
              "      <td>female</td>\n",
              "      <td>38.0</td>\n",
              "      <td>1</td>\n",
              "      <td>0</td>\n",
              "      <td>71.2833</td>\n",
              "      <td>C</td>\n",
              "      <td>First</td>\n",
              "      <td>woman</td>\n",
              "      <td>False</td>\n",
              "      <td>C</td>\n",
              "      <td>Cherbourg</td>\n",
              "      <td>yes</td>\n",
              "      <td>False</td>\n",
              "    </tr>\n",
              "    <tr>\n",
              "      <th>2</th>\n",
              "      <td>1</td>\n",
              "      <td>3</td>\n",
              "      <td>female</td>\n",
              "      <td>26.0</td>\n",
              "      <td>0</td>\n",
              "      <td>0</td>\n",
              "      <td>7.9250</td>\n",
              "      <td>S</td>\n",
              "      <td>Third</td>\n",
              "      <td>woman</td>\n",
              "      <td>False</td>\n",
              "      <td>NaN</td>\n",
              "      <td>Southampton</td>\n",
              "      <td>yes</td>\n",
              "      <td>True</td>\n",
              "    </tr>\n",
              "    <tr>\n",
              "      <th>3</th>\n",
              "      <td>1</td>\n",
              "      <td>1</td>\n",
              "      <td>female</td>\n",
              "      <td>35.0</td>\n",
              "      <td>1</td>\n",
              "      <td>0</td>\n",
              "      <td>53.1000</td>\n",
              "      <td>S</td>\n",
              "      <td>First</td>\n",
              "      <td>woman</td>\n",
              "      <td>False</td>\n",
              "      <td>C</td>\n",
              "      <td>Southampton</td>\n",
              "      <td>yes</td>\n",
              "      <td>False</td>\n",
              "    </tr>\n",
              "    <tr>\n",
              "      <th>4</th>\n",
              "      <td>0</td>\n",
              "      <td>3</td>\n",
              "      <td>male</td>\n",
              "      <td>35.0</td>\n",
              "      <td>0</td>\n",
              "      <td>0</td>\n",
              "      <td>8.0500</td>\n",
              "      <td>S</td>\n",
              "      <td>Third</td>\n",
              "      <td>man</td>\n",
              "      <td>True</td>\n",
              "      <td>NaN</td>\n",
              "      <td>Southampton</td>\n",
              "      <td>no</td>\n",
              "      <td>True</td>\n",
              "    </tr>\n",
              "  </tbody>\n",
              "</table>\n",
              "</div>\n",
              "      <button class=\"colab-df-convert\" onclick=\"convertToInteractive('df-49a37e83-6fbd-4a5f-a283-700a35382f6b')\"\n",
              "              title=\"Convert this dataframe to an interactive table.\"\n",
              "              style=\"display:none;\">\n",
              "        \n",
              "  <svg xmlns=\"http://www.w3.org/2000/svg\" height=\"24px\"viewBox=\"0 0 24 24\"\n",
              "       width=\"24px\">\n",
              "    <path d=\"M0 0h24v24H0V0z\" fill=\"none\"/>\n",
              "    <path d=\"M18.56 5.44l.94 2.06.94-2.06 2.06-.94-2.06-.94-.94-2.06-.94 2.06-2.06.94zm-11 1L8.5 8.5l.94-2.06 2.06-.94-2.06-.94L8.5 2.5l-.94 2.06-2.06.94zm10 10l.94 2.06.94-2.06 2.06-.94-2.06-.94-.94-2.06-.94 2.06-2.06.94z\"/><path d=\"M17.41 7.96l-1.37-1.37c-.4-.4-.92-.59-1.43-.59-.52 0-1.04.2-1.43.59L10.3 9.45l-7.72 7.72c-.78.78-.78 2.05 0 2.83L4 21.41c.39.39.9.59 1.41.59.51 0 1.02-.2 1.41-.59l7.78-7.78 2.81-2.81c.8-.78.8-2.07 0-2.86zM5.41 20L4 18.59l7.72-7.72 1.47 1.35L5.41 20z\"/>\n",
              "  </svg>\n",
              "      </button>\n",
              "      \n",
              "  <style>\n",
              "    .colab-df-container {\n",
              "      display:flex;\n",
              "      flex-wrap:wrap;\n",
              "      gap: 12px;\n",
              "    }\n",
              "\n",
              "    .colab-df-convert {\n",
              "      background-color: #E8F0FE;\n",
              "      border: none;\n",
              "      border-radius: 50%;\n",
              "      cursor: pointer;\n",
              "      display: none;\n",
              "      fill: #1967D2;\n",
              "      height: 32px;\n",
              "      padding: 0 0 0 0;\n",
              "      width: 32px;\n",
              "    }\n",
              "\n",
              "    .colab-df-convert:hover {\n",
              "      background-color: #E2EBFA;\n",
              "      box-shadow: 0px 1px 2px rgba(60, 64, 67, 0.3), 0px 1px 3px 1px rgba(60, 64, 67, 0.15);\n",
              "      fill: #174EA6;\n",
              "    }\n",
              "\n",
              "    [theme=dark] .colab-df-convert {\n",
              "      background-color: #3B4455;\n",
              "      fill: #D2E3FC;\n",
              "    }\n",
              "\n",
              "    [theme=dark] .colab-df-convert:hover {\n",
              "      background-color: #434B5C;\n",
              "      box-shadow: 0px 1px 3px 1px rgba(0, 0, 0, 0.15);\n",
              "      filter: drop-shadow(0px 1px 2px rgba(0, 0, 0, 0.3));\n",
              "      fill: #FFFFFF;\n",
              "    }\n",
              "  </style>\n",
              "\n",
              "      <script>\n",
              "        const buttonEl =\n",
              "          document.querySelector('#df-49a37e83-6fbd-4a5f-a283-700a35382f6b button.colab-df-convert');\n",
              "        buttonEl.style.display =\n",
              "          google.colab.kernel.accessAllowed ? 'block' : 'none';\n",
              "\n",
              "        async function convertToInteractive(key) {\n",
              "          const element = document.querySelector('#df-49a37e83-6fbd-4a5f-a283-700a35382f6b');\n",
              "          const dataTable =\n",
              "            await google.colab.kernel.invokeFunction('convertToInteractive',\n",
              "                                                     [key], {});\n",
              "          if (!dataTable) return;\n",
              "\n",
              "          const docLinkHtml = 'Like what you see? Visit the ' +\n",
              "            '<a target=\"_blank\" href=https://colab.research.google.com/notebooks/data_table.ipynb>data table notebook</a>'\n",
              "            + ' to learn more about interactive tables.';\n",
              "          element.innerHTML = '';\n",
              "          dataTable['output_type'] = 'display_data';\n",
              "          await google.colab.output.renderOutput(dataTable, element);\n",
              "          const docLink = document.createElement('div');\n",
              "          docLink.innerHTML = docLinkHtml;\n",
              "          element.appendChild(docLink);\n",
              "        }\n",
              "      </script>\n",
              "    </div>\n",
              "  </div>\n",
              "  "
            ]
          },
          "metadata": {},
          "execution_count": 4
        }
      ]
    },
    {
      "cell_type": "code",
      "source": [
        "df = df[['survived','pclass','fare']]"
      ],
      "metadata": {
        "id": "i00FiNC9dgMp"
      },
      "execution_count": 5,
      "outputs": []
    },
    {
      "cell_type": "code",
      "source": [
        "df.head()"
      ],
      "metadata": {
        "colab": {
          "base_uri": "https://localhost:8080/",
          "height": 206
        },
        "id": "5ZK_CI-3drwb",
        "outputId": "eba9d66f-e928-4734-b74c-c73f4eb847a2"
      },
      "execution_count": 6,
      "outputs": [
        {
          "output_type": "execute_result",
          "data": {
            "text/plain": [
              "   survived  pclass     fare\n",
              "0         0       3   7.2500\n",
              "1         1       1  71.2833\n",
              "2         1       3   7.9250\n",
              "3         1       1  53.1000\n",
              "4         0       3   8.0500"
            ],
            "text/html": [
              "\n",
              "  <div id=\"df-f69a3d06-d76f-4aa7-903b-d9e459bdeb59\">\n",
              "    <div class=\"colab-df-container\">\n",
              "      <div>\n",
              "<style scoped>\n",
              "    .dataframe tbody tr th:only-of-type {\n",
              "        vertical-align: middle;\n",
              "    }\n",
              "\n",
              "    .dataframe tbody tr th {\n",
              "        vertical-align: top;\n",
              "    }\n",
              "\n",
              "    .dataframe thead th {\n",
              "        text-align: right;\n",
              "    }\n",
              "</style>\n",
              "<table border=\"1\" class=\"dataframe\">\n",
              "  <thead>\n",
              "    <tr style=\"text-align: right;\">\n",
              "      <th></th>\n",
              "      <th>survived</th>\n",
              "      <th>pclass</th>\n",
              "      <th>fare</th>\n",
              "    </tr>\n",
              "  </thead>\n",
              "  <tbody>\n",
              "    <tr>\n",
              "      <th>0</th>\n",
              "      <td>0</td>\n",
              "      <td>3</td>\n",
              "      <td>7.2500</td>\n",
              "    </tr>\n",
              "    <tr>\n",
              "      <th>1</th>\n",
              "      <td>1</td>\n",
              "      <td>1</td>\n",
              "      <td>71.2833</td>\n",
              "    </tr>\n",
              "    <tr>\n",
              "      <th>2</th>\n",
              "      <td>1</td>\n",
              "      <td>3</td>\n",
              "      <td>7.9250</td>\n",
              "    </tr>\n",
              "    <tr>\n",
              "      <th>3</th>\n",
              "      <td>1</td>\n",
              "      <td>1</td>\n",
              "      <td>53.1000</td>\n",
              "    </tr>\n",
              "    <tr>\n",
              "      <th>4</th>\n",
              "      <td>0</td>\n",
              "      <td>3</td>\n",
              "      <td>8.0500</td>\n",
              "    </tr>\n",
              "  </tbody>\n",
              "</table>\n",
              "</div>\n",
              "      <button class=\"colab-df-convert\" onclick=\"convertToInteractive('df-f69a3d06-d76f-4aa7-903b-d9e459bdeb59')\"\n",
              "              title=\"Convert this dataframe to an interactive table.\"\n",
              "              style=\"display:none;\">\n",
              "        \n",
              "  <svg xmlns=\"http://www.w3.org/2000/svg\" height=\"24px\"viewBox=\"0 0 24 24\"\n",
              "       width=\"24px\">\n",
              "    <path d=\"M0 0h24v24H0V0z\" fill=\"none\"/>\n",
              "    <path d=\"M18.56 5.44l.94 2.06.94-2.06 2.06-.94-2.06-.94-.94-2.06-.94 2.06-2.06.94zm-11 1L8.5 8.5l.94-2.06 2.06-.94-2.06-.94L8.5 2.5l-.94 2.06-2.06.94zm10 10l.94 2.06.94-2.06 2.06-.94-2.06-.94-.94-2.06-.94 2.06-2.06.94z\"/><path d=\"M17.41 7.96l-1.37-1.37c-.4-.4-.92-.59-1.43-.59-.52 0-1.04.2-1.43.59L10.3 9.45l-7.72 7.72c-.78.78-.78 2.05 0 2.83L4 21.41c.39.39.9.59 1.41.59.51 0 1.02-.2 1.41-.59l7.78-7.78 2.81-2.81c.8-.78.8-2.07 0-2.86zM5.41 20L4 18.59l7.72-7.72 1.47 1.35L5.41 20z\"/>\n",
              "  </svg>\n",
              "      </button>\n",
              "      \n",
              "  <style>\n",
              "    .colab-df-container {\n",
              "      display:flex;\n",
              "      flex-wrap:wrap;\n",
              "      gap: 12px;\n",
              "    }\n",
              "\n",
              "    .colab-df-convert {\n",
              "      background-color: #E8F0FE;\n",
              "      border: none;\n",
              "      border-radius: 50%;\n",
              "      cursor: pointer;\n",
              "      display: none;\n",
              "      fill: #1967D2;\n",
              "      height: 32px;\n",
              "      padding: 0 0 0 0;\n",
              "      width: 32px;\n",
              "    }\n",
              "\n",
              "    .colab-df-convert:hover {\n",
              "      background-color: #E2EBFA;\n",
              "      box-shadow: 0px 1px 2px rgba(60, 64, 67, 0.3), 0px 1px 3px 1px rgba(60, 64, 67, 0.15);\n",
              "      fill: #174EA6;\n",
              "    }\n",
              "\n",
              "    [theme=dark] .colab-df-convert {\n",
              "      background-color: #3B4455;\n",
              "      fill: #D2E3FC;\n",
              "    }\n",
              "\n",
              "    [theme=dark] .colab-df-convert:hover {\n",
              "      background-color: #434B5C;\n",
              "      box-shadow: 0px 1px 3px 1px rgba(0, 0, 0, 0.15);\n",
              "      filter: drop-shadow(0px 1px 2px rgba(0, 0, 0, 0.3));\n",
              "      fill: #FFFFFF;\n",
              "    }\n",
              "  </style>\n",
              "\n",
              "      <script>\n",
              "        const buttonEl =\n",
              "          document.querySelector('#df-f69a3d06-d76f-4aa7-903b-d9e459bdeb59 button.colab-df-convert');\n",
              "        buttonEl.style.display =\n",
              "          google.colab.kernel.accessAllowed ? 'block' : 'none';\n",
              "\n",
              "        async function convertToInteractive(key) {\n",
              "          const element = document.querySelector('#df-f69a3d06-d76f-4aa7-903b-d9e459bdeb59');\n",
              "          const dataTable =\n",
              "            await google.colab.kernel.invokeFunction('convertToInteractive',\n",
              "                                                     [key], {});\n",
              "          if (!dataTable) return;\n",
              "\n",
              "          const docLinkHtml = 'Like what you see? Visit the ' +\n",
              "            '<a target=\"_blank\" href=https://colab.research.google.com/notebooks/data_table.ipynb>data table notebook</a>'\n",
              "            + ' to learn more about interactive tables.';\n",
              "          element.innerHTML = '';\n",
              "          dataTable['output_type'] = 'display_data';\n",
              "          await google.colab.output.renderOutput(dataTable, element);\n",
              "          const docLink = document.createElement('div');\n",
              "          docLink.innerHTML = docLinkHtml;\n",
              "          element.appendChild(docLink);\n",
              "        }\n",
              "      </script>\n",
              "    </div>\n",
              "  </div>\n",
              "  "
            ]
          },
          "metadata": {},
          "execution_count": 6
        }
      ]
    },
    {
      "cell_type": "code",
      "source": [
        "df.shape"
      ],
      "metadata": {
        "colab": {
          "base_uri": "https://localhost:8080/"
        },
        "id": "o9SfH3radtC1",
        "outputId": "f0a106a2-a83d-450b-99d5-711da377ddc3"
      },
      "execution_count": 7,
      "outputs": [
        {
          "output_type": "execute_result",
          "data": {
            "text/plain": [
              "(891, 3)"
            ]
          },
          "metadata": {},
          "execution_count": 7
        }
      ]
    },
    {
      "cell_type": "code",
      "source": [
        "df.isna().sum()"
      ],
      "metadata": {
        "colab": {
          "base_uri": "https://localhost:8080/"
        },
        "id": "_8F8zUuSdvPm",
        "outputId": "36402b09-dbe3-43da-f742-366744d32dbc"
      },
      "execution_count": 8,
      "outputs": [
        {
          "output_type": "execute_result",
          "data": {
            "text/plain": [
              "survived    0\n",
              "pclass      0\n",
              "fare        0\n",
              "dtype: int64"
            ]
          },
          "metadata": {},
          "execution_count": 8
        }
      ]
    },
    {
      "cell_type": "code",
      "source": [
        "df['fare'].max()"
      ],
      "metadata": {
        "colab": {
          "base_uri": "https://localhost:8080/"
        },
        "id": "rp4azVjjdz7Y",
        "outputId": "dfea4f88-6e73-4338-a58d-207ca920d346"
      },
      "execution_count": 10,
      "outputs": [
        {
          "output_type": "execute_result",
          "data": {
            "text/plain": [
              "512.3292"
            ]
          },
          "metadata": {},
          "execution_count": 10
        }
      ]
    },
    {
      "cell_type": "code",
      "source": [
        "from sklearn.model_selection import train_test_split\n",
        "from sklearn.preprocessing import StandardScaler"
      ],
      "metadata": {
        "id": "TU_7O6Pgd-BM"
      },
      "execution_count": 11,
      "outputs": []
    },
    {
      "cell_type": "code",
      "source": [
        "y = df['survived']\n",
        "X = df.drop(['survived'],axis=1)"
      ],
      "metadata": {
        "id": "dwUY0jxNejpL"
      },
      "execution_count": 12,
      "outputs": []
    },
    {
      "cell_type": "code",
      "source": [
        "X_train,X_test,y_train,y_test = train_test_split(X,y,test_size = 0.33)"
      ],
      "metadata": {
        "id": "p9G6IkRReecN"
      },
      "execution_count": 13,
      "outputs": []
    },
    {
      "cell_type": "code",
      "source": [
        "X_train.shape"
      ],
      "metadata": {
        "colab": {
          "base_uri": "https://localhost:8080/"
        },
        "id": "ApTUOu04eu0Q",
        "outputId": "2702417e-f243-41c9-8009-08f45f1d3f30"
      },
      "execution_count": 14,
      "outputs": [
        {
          "output_type": "execute_result",
          "data": {
            "text/plain": [
              "(596, 2)"
            ]
          },
          "metadata": {},
          "execution_count": 14
        }
      ]
    },
    {
      "cell_type": "code",
      "source": [
        "X_test.shape"
      ],
      "metadata": {
        "colab": {
          "base_uri": "https://localhost:8080/"
        },
        "id": "oNqCUuIkexdd",
        "outputId": "d1b42f43-6d3e-4a57-f345-e0692807d445"
      },
      "execution_count": 15,
      "outputs": [
        {
          "output_type": "execute_result",
          "data": {
            "text/plain": [
              "(295, 2)"
            ]
          },
          "metadata": {},
          "execution_count": 15
        }
      ]
    },
    {
      "cell_type": "code",
      "source": [
        "sc = StandardScaler()"
      ],
      "metadata": {
        "id": "z72waShWe0BL"
      },
      "execution_count": 16,
      "outputs": []
    },
    {
      "cell_type": "code",
      "source": [
        "X_train_scaled = sc.fit_transform(X_train)"
      ],
      "metadata": {
        "id": "K_PWpI5ue9Cd"
      },
      "execution_count": 17,
      "outputs": []
    },
    {
      "cell_type": "code",
      "source": [
        "X_train_scaled"
      ],
      "metadata": {
        "colab": {
          "base_uri": "https://localhost:8080/"
        },
        "id": "3x8kgh25fF_N",
        "outputId": "4b107929-d790-498e-a41d-6f2dbbfbb030"
      },
      "execution_count": 18,
      "outputs": [
        {
          "output_type": "execute_result",
          "data": {
            "text/plain": [
              "array([[ 0.83902928, -0.48917946],\n",
              "       [-1.54789889,  0.43441373],\n",
              "       [ 0.83902928,  0.17742523],\n",
              "       ...,\n",
              "       [-1.54789889, -0.01025099],\n",
              "       [ 0.83902928, -0.47013361],\n",
              "       [ 0.83902928, -0.49961554]])"
            ]
          },
          "metadata": {},
          "execution_count": 18
        }
      ]
    },
    {
      "cell_type": "code",
      "source": [
        "X_test_scaled = sc.transform(X_test)"
      ],
      "metadata": {
        "id": "2UL6Pi5UfHqp"
      },
      "execution_count": 19,
      "outputs": []
    },
    {
      "cell_type": "code",
      "source": [
        "X_test_scaled"
      ],
      "metadata": {
        "colab": {
          "base_uri": "https://localhost:8080/"
        },
        "id": "-pRAPV3ffP0m",
        "outputId": "7a9d5a9c-9bfc-49b5-f10c-5958ed78c36a"
      },
      "execution_count": 20,
      "outputs": [
        {
          "output_type": "execute_result",
          "data": {
            "text/plain": [
              "array([[ 8.39029281e-01, -4.89179463e-01],\n",
              "       [ 8.39029281e-01, -4.82917814e-01],\n",
              "       [ 8.39029281e-01, -4.85526835e-01],\n",
              "       [ 8.39029281e-01, -5.00137348e-01],\n",
              "       [ 8.39029281e-01, -3.14896906e-01],\n",
              "       [-3.54434804e-01,  8.83165227e-01],\n",
              "       [-3.54434804e-01, -3.79600610e-01],\n",
              "       [-1.54789889e+00,  9.94831296e-01],\n",
              "       [ 8.39029281e-01, -4.45869726e-01],\n",
              "       [ 8.39029281e-01, -4.52653179e-01],\n",
              "       [-3.54434804e-01, -2.43931553e-01],\n",
              "       [-3.54434804e-01, -4.56460082e-02],\n",
              "       [ 8.39029281e-01, -3.02373608e-01],\n",
              "       [ 8.39029281e-01, -3.49248311e-01],\n",
              "       [-3.54434804e-01,  1.63075618e-01],\n",
              "       [-3.54434804e-01, -3.93167515e-01],\n",
              "       [ 8.39029281e-01, -4.50826864e-01],\n",
              "       [ 8.39029281e-01, -5.03789977e-01],\n",
              "       [ 8.39029281e-01, -4.32563722e-01],\n",
              "       [-3.54434804e-01, -1.03044455e-01],\n",
              "       [-3.54434804e-01, -3.69164528e-01],\n",
              "       [-1.54789889e+00, -2.47738457e-02],\n",
              "       [ 8.39029281e-01, -3.49162735e-01],\n",
              "       [ 8.39029281e-01, -4.89440365e-01],\n",
              "       [ 8.39029281e-01, -4.86136302e-01],\n",
              "       [-3.54434804e-01, -1.08262496e-01],\n",
              "       [ 8.39029281e-01, -5.00049685e-01],\n",
              "       [-1.54789889e+00,  9.00230485e-02],\n",
              "       [-1.54789889e+00,  9.76219589e-01],\n",
              "       [ 8.39029281e-01, -4.99615544e-01],\n",
              "       [-3.54434804e-01, -1.08262496e-01],\n",
              "       [-3.54434804e-01, -3.61686032e-01],\n",
              "       [ 8.39029281e-01, -4.89179463e-01],\n",
              "       [ 8.39029281e-01, -4.89179463e-01],\n",
              "       [ 8.39029281e-01, -4.87004584e-01],\n",
              "       [ 8.39029281e-01, -4.89179463e-01],\n",
              "       [ 8.39029281e-01, -4.86136302e-01],\n",
              "       [ 8.39029281e-01, -4.89179463e-01],\n",
              "       [-3.54434804e-01, -2.12623309e-01],\n",
              "       [-3.54434804e-01, -1.08262496e-01],\n",
              "       [ 8.39029281e-01, -4.69090007e-01],\n",
              "       [-3.54434804e-01, -1.08262496e-01],\n",
              "       [ 8.39029281e-01, -4.52653179e-01],\n",
              "       [ 8.39029281e-01, -4.85526835e-01],\n",
              "       [ 8.39029281e-01, -5.00049685e-01],\n",
              "       [ 8.39029281e-01, -2.34190515e-01],\n",
              "       [-1.54789889e+00, -3.10354944e-02],\n",
              "       [ 8.39029281e-01, -3.19071338e-01],\n",
              "       [-3.54434804e-01,  8.83165227e-01],\n",
              "       [-3.54434804e-01, -2.12623309e-01],\n",
              "       [ 8.39029281e-01, -4.82917814e-01],\n",
              "       [-3.54434804e-01, -1.03044455e-01],\n",
              "       [ 8.39029281e-01, -4.58393023e-01],\n",
              "       [ 8.39029281e-01, -5.16574177e-01],\n",
              "       [-1.54789889e+00,  1.25008115e+00],\n",
              "       [-1.54789889e+00,  4.34413731e-01],\n",
              "       [-1.54789889e+00,  3.76013194e+00],\n",
              "       [ 8.39029281e-01, -4.82917814e-01],\n",
              "       [ 8.39029281e-01, -4.82917814e-01],\n",
              "       [ 8.39029281e-01, -4.58393023e-01],\n",
              "       [ 8.39029281e-01, -4.85526835e-01],\n",
              "       [-3.54434804e-01, -3.93167515e-01],\n",
              "       [ 8.39029281e-01, -3.32725907e-01],\n",
              "       [ 8.39029281e-01, -4.89179463e-01],\n",
              "       [-1.54789889e+00,  4.31543809e-01],\n",
              "       [ 8.39029281e-01,  1.77425229e-01],\n",
              "       [ 8.39029281e-01, -3.27420203e-01],\n",
              "       [-1.54789889e+00,  7.95869673e-02],\n",
              "       [ 8.39029281e-01, -5.05355389e-01],\n",
              "       [ 8.39029281e-01, -1.65660943e-01],\n",
              "       [ 8.39029281e-01, -4.87004584e-01],\n",
              "       [ 8.39029281e-01, -5.00137348e-01],\n",
              "       [-1.54789889e+00,  1.00213655e+00],\n",
              "       [-1.54789889e+00,  7.39147305e-01],\n",
              "       [-3.54434804e-01, -6.50938723e-01],\n",
              "       [ 8.39029281e-01, -2.48976354e-01],\n",
              "       [ 8.39029281e-01, -3.14896906e-01],\n",
              "       [-3.54434804e-01, -1.03044455e-01],\n",
              "       [-3.54434804e-01, -3.79600610e-01],\n",
              "       [-1.54789889e+00,  2.55215553e+00],\n",
              "       [-1.54789889e+00,  1.57038118e+00],\n",
              "       [ 8.39029281e-01, -3.48292366e-01],\n",
              "       [-3.54434804e-01, -2.12623309e-01],\n",
              "       [-3.54434804e-01, -1.70878984e-01],\n",
              "       [-3.54434804e-01, -1.08262496e-01],\n",
              "       [ 8.39029281e-01, -4.89179463e-01],\n",
              "       [-1.54789889e+00,  1.30060848e+00],\n",
              "       [ 8.39029281e-01, -4.89179463e-01],\n",
              "       [ 8.39029281e-01, -1.46875997e-01],\n",
              "       [-1.54789889e+00,  9.00230485e-02],\n",
              "       [-1.54789889e+00, -3.90168308e-03],\n",
              "       [-1.54789889e+00,  2.79018584e+00],\n",
              "       [ 8.39029281e-01, -4.82917814e-01],\n",
              "       [ 8.39029281e-01, -3.32725907e-01],\n",
              "       [ 8.39029281e-01, -4.82917814e-01],\n",
              "       [ 8.39029281e-01, -6.86053871e-02],\n",
              "       [-3.54434804e-01, -1.08262496e-01],\n",
              "       [ 8.39029281e-01, -4.91266679e-01],\n",
              "       [-1.54789889e+00,  1.66343554e+00],\n",
              "       [-3.54434804e-01, -3.79600610e-01],\n",
              "       [-3.54434804e-01, -1.08262496e-01],\n",
              "       [-3.54434804e-01, -3.79600610e-01],\n",
              "       [ 8.39029281e-01, -5.00137348e-01],\n",
              "       [-1.54789889e+00, -1.09827908e-01],\n",
              "       [ 8.39029281e-01, -4.87004584e-01],\n",
              "       [-3.54434804e-01, -4.31781016e-01],\n",
              "       [ 8.39029281e-01,  4.18627992e-03],\n",
              "       [ 8.39029281e-01, -4.86136302e-01],\n",
              "       [ 8.39029281e-01, -4.82917814e-01],\n",
              "       [ 8.39029281e-01, -4.87004584e-01],\n",
              "       [-3.54434804e-01, -3.79600610e-01],\n",
              "       [ 8.39029281e-01, -4.70133615e-01],\n",
              "       [ 8.39029281e-01, -4.86136302e-01],\n",
              "       [ 8.39029281e-01, -3.20114946e-01],\n",
              "       [ 8.39029281e-01, -3.22375401e-01],\n",
              "       [-1.54789889e+00,  4.51535566e+00],\n",
              "       [-3.54434804e-01, -3.69164528e-01],\n",
              "       [ 8.39029281e-01, -3.90558495e-01],\n",
              "       [-1.54789889e+00,  1.06414357e+00],\n",
              "       [ 8.39029281e-01, -1.19393620e-01],\n",
              "       [ 8.39029281e-01, -4.82917814e-01],\n",
              "       [ 8.39029281e-01, -4.86136302e-01],\n",
              "       [ 8.39029281e-01, -4.16300133e-01],\n",
              "       [-3.54434804e-01, -4.56460082e-02],\n",
              "       [ 8.39029281e-01, -4.88657659e-01],\n",
              "       [-3.54434804e-01, -3.79600610e-01],\n",
              "       [ 8.39029281e-01,  1.83816163e-03],\n",
              "       [ 8.39029281e-01,  1.77425229e-01],\n",
              "       [-1.54789889e+00, -9.67828066e-02],\n",
              "       [ 8.39029281e-01, -2.11057897e-01],\n",
              "       [-1.54789889e+00,  1.01152903e+00],\n",
              "       [ 8.39029281e-01, -1.80793261e-01],\n",
              "       [ 8.39029281e-01, -3.49248311e-01],\n",
              "       [ 8.39029281e-01, -4.66220084e-01],\n",
              "       [ 8.39029281e-01,  8.00720184e-01],\n",
              "       [ 8.39029281e-01, -4.86136302e-01],\n",
              "       [ 8.39029281e-01, -4.76395264e-01],\n",
              "       [ 8.39029281e-01, -4.87004584e-01],\n",
              "       [-1.54789889e+00,  5.15815165e-01],\n",
              "       [ 8.39029281e-01, -4.70133615e-01],\n",
              "       [-1.54789889e+00,  8.30984820e-01],\n",
              "       [-3.54434804e-01, -4.31781016e-01],\n",
              "       [ 8.39029281e-01, -5.00049685e-01],\n",
              "       [-1.54789889e+00,  4.83844004e+00],\n",
              "       [-1.54789889e+00,  7.39147305e-01],\n",
              "       [ 8.39029281e-01, -4.85526835e-01],\n",
              "       [ 8.39029281e-01, -1.46875997e-01],\n",
              "       [ 8.39029281e-01, -4.87004584e-01],\n",
              "       [ 8.39029281e-01, -5.00137348e-01],\n",
              "       [ 8.39029281e-01, -4.87004584e-01],\n",
              "       [ 8.39029281e-01, -4.82917814e-01],\n",
              "       [ 8.39029281e-01, -4.18562675e-01],\n",
              "       [-1.54789889e+00,  3.76352366e+00],\n",
              "       [-1.54789889e+00,  1.22755591e+00],\n",
              "       [ 8.39029281e-01, -5.00049685e-01],\n",
              "       [-1.54789889e+00,  9.50565614e-01],\n",
              "       [ 8.39029281e-01,  4.18627992e-03],\n",
              "       [-1.54789889e+00,  4.03017824e-01],\n",
              "       [ 8.39029281e-01, -4.82917814e-01],\n",
              "       [-3.54434804e-01,  3.78426421e-02],\n",
              "       [ 8.39029281e-01, -4.89352702e-01],\n",
              "       [-1.54789889e+00, -1.08262496e-01],\n",
              "       [ 8.39029281e-01, -4.82917814e-01],\n",
              "       [-1.54789889e+00,  4.57373110e-01],\n",
              "       [-3.54434804e-01, -3.93167515e-01],\n",
              "       [-1.54789889e+00,  3.82233325e-01],\n",
              "       [ 8.39029281e-01, -4.87004584e-01],\n",
              "       [ 8.39029281e-01, -5.16313274e-01],\n",
              "       [-3.54434804e-01, -3.79600610e-01],\n",
              "       [ 8.39029281e-01, -4.87004584e-01],\n",
              "       [-1.54789889e+00,  4.57373110e-01],\n",
              "       [-1.54789889e+00,  4.83844004e+00],\n",
              "       [ 8.39029281e-01, -4.85526835e-01],\n",
              "       [ 8.39029281e-01, -4.86136302e-01],\n",
              "       [ 8.39029281e-01, -4.80657359e-01],\n",
              "       [-3.54434804e-01,  8.83165227e-01],\n",
              "       [ 8.39029281e-01, -4.86136302e-01],\n",
              "       [ 8.39029281e-01, -4.88135855e-01],\n",
              "       [ 8.39029281e-01, -4.89179463e-01],\n",
              "       [-3.54434804e-01, -1.03044455e-01],\n",
              "       [ 8.39029281e-01, -4.70133615e-01],\n",
              "       [ 8.39029281e-01, -5.03789977e-01],\n",
              "       [-3.54434804e-01, -2.47738457e-02],\n",
              "       [-1.54789889e+00,  1.20885863e+00],\n",
              "       [ 8.39029281e-01,  5.28250800e-01],\n",
              "       [ 8.39029281e-01, -4.86136302e-01],\n",
              "       [ 8.39029281e-01, -3.48292366e-01],\n",
              "       [ 8.39029281e-01, -4.89179463e-01],\n",
              "       [ 8.39029281e-01, -4.52653179e-01],\n",
              "       [ 8.39029281e-01, -1.46875997e-01],\n",
              "       [-1.54789889e+00,  1.15450334e+00],\n",
              "       [ 8.39029281e-01, -1.19393620e-01],\n",
              "       [-1.54789889e+00,  8.36897904e-01],\n",
              "       [-1.54789889e+00,  1.00424796e+01],\n",
              "       [ 8.39029281e-01, -1.46875997e-01],\n",
              "       [-1.54789889e+00,  1.09136505e+00],\n",
              "       [ 8.39029281e-01, -3.50379582e-01],\n",
              "       [ 8.39029281e-01, -5.00137348e-01],\n",
              "       [-3.54434804e-01, -6.50938723e-01],\n",
              "       [ 8.39029281e-01, -4.81091500e-01],\n",
              "       [ 8.39029281e-01, -4.82917814e-01],\n",
              "       [-1.54789889e+00,  2.55215553e+00],\n",
              "       [ 8.39029281e-01, -4.89179463e-01],\n",
              "       [-3.54434804e-01, -1.08262496e-01],\n",
              "       [-1.54789889e+00,  7.23693734e-02],\n",
              "       [-3.54434804e-01, -3.94732927e-01],\n",
              "       [-3.54434804e-01, -3.22202162e-01],\n",
              "       [-1.54789889e+00,  3.76013194e+00],\n",
              "       [-1.54789889e+00, -9.67828066e-02],\n",
              "       [-3.54434804e-01, -1.08262496e-01],\n",
              "       [ 8.39029281e-01, -4.85526835e-01],\n",
              "       [-1.54789889e+00, -2.47738457e-02],\n",
              "       [ 8.39029281e-01, -2.48976354e-01],\n",
              "       [ 8.39029281e-01,  8.00720184e-01],\n",
              "       [ 8.39029281e-01, -4.89528028e-01],\n",
              "       [ 8.39029281e-01, -3.27420203e-01],\n",
              "       [ 8.39029281e-01, -5.00049685e-01],\n",
              "       [ 8.39029281e-01, -5.00049685e-01],\n",
              "       [ 8.39029281e-01, -4.89528028e-01],\n",
              "       [-3.54434804e-01, -8.73903334e-02],\n",
              "       [ 8.39029281e-01, -4.30369879e-02],\n",
              "       [ 8.39029281e-01,  1.77425229e-01],\n",
              "       [-1.54789889e+00, -9.67828066e-02],\n",
              "       [-1.54789889e+00,  4.82787234e-02],\n",
              "       [ 8.39029281e-01, -4.52653179e-01],\n",
              "       [-1.54789889e+00,  9.41434043e-01],\n",
              "       [-3.54434804e-01, -6.50938723e-01],\n",
              "       [ 8.39029281e-01,  3.27965702e-01],\n",
              "       [ 8.39029281e-01, -4.55784003e-01],\n",
              "       [ 8.39029281e-01, -5.20748609e-01],\n",
              "       [-3.54434804e-01,  1.63075618e-01],\n",
              "       [-1.54789889e+00,  4.09800007e+00],\n",
              "       [ 8.39029281e-01,  1.83816163e-03],\n",
              "       [-1.54789889e+00,  5.15815165e-01],\n",
              "       [ 8.39029281e-01, -4.31432451e-01],\n",
              "       [-1.54789889e+00,  1.22755591e+00],\n",
              "       [ 8.39029281e-01, -4.88223518e-01],\n",
              "       [ 8.39029281e-01, -4.82917814e-01],\n",
              "       [ 8.39029281e-01, -5.03789977e-01],\n",
              "       [ 8.39029281e-01, -4.86136302e-01],\n",
              "       [-1.54789889e+00,  4.83844004e+00],\n",
              "       [ 8.39029281e-01,  8.00720184e-01],\n",
              "       [ 8.39029281e-01, -4.16300133e-01],\n",
              "       [-1.54789889e+00,  1.66343554e+00],\n",
              "       [ 8.39029281e-01, -4.89179463e-01],\n",
              "       [-1.54789889e+00,  2.15636714e+00],\n",
              "       [ 8.39029281e-01, -4.89701267e-01],\n",
              "       [-3.54434804e-01, -4.31781016e-01],\n",
              "       [-3.54434804e-01, -3.79600610e-01],\n",
              "       [ 8.39029281e-01, -4.38652132e-01],\n",
              "       [ 8.39029281e-01, -4.82917814e-01],\n",
              "       [ 8.39029281e-01, -4.87004584e-01],\n",
              "       [ 8.39029281e-01, -4.70133615e-01],\n",
              "       [-3.54434804e-01, -3.79600610e-01],\n",
              "       [ 8.39029281e-01, -4.91266679e-01],\n",
              "       [ 8.39029281e-01,  6.65418656e-02],\n",
              "       [ 8.39029281e-01,  8.00720184e-01],\n",
              "       [ 8.39029281e-01, -4.88657659e-01],\n",
              "       [ 8.39029281e-01, -5.00137348e-01],\n",
              "       [-1.54789889e+00, -6.50938723e-01],\n",
              "       [-3.54434804e-01, -4.10908853e-01],\n",
              "       [ 8.39029281e-01, -2.11057897e-01],\n",
              "       [ 8.39029281e-01, -4.70133615e-01],\n",
              "       [-3.54434804e-01, -1.08262496e-01],\n",
              "       [ 8.39029281e-01, -5.05877193e-01],\n",
              "       [ 8.39029281e-01, -5.01876000e-01],\n",
              "       [ 8.39029281e-01, -4.82917814e-01],\n",
              "       [-1.54789889e+00, -2.47738457e-02],\n",
              "       [-1.54789889e+00,  1.86556800e-01],\n",
              "       [-1.54789889e+00,  9.94831296e-01],\n",
              "       [-3.54434804e-01, -1.03044455e-01],\n",
              "       [-1.54789889e+00, -7.23456786e-02],\n",
              "       [ 8.39029281e-01,  1.83816163e-03],\n",
              "       [-1.54789889e+00,  1.15450334e+00],\n",
              "       [ 8.39029281e-01, -5.00049685e-01],\n",
              "       [ 8.39029281e-01,  3.27965702e-01],\n",
              "       [ 8.39029281e-01,  4.18627992e-03],\n",
              "       [-1.54789889e+00,  1.08475483e+00],\n",
              "       [ 8.39029281e-01, -5.00137348e-01],\n",
              "       [-1.54789889e+00,  9.62218542e-01],\n",
              "       [-1.54789889e+00,  1.71335549e+00],\n",
              "       [ 8.39029281e-01, -4.86136302e-01],\n",
              "       [-1.54789889e+00, -7.23456786e-02],\n",
              "       [-3.54434804e-01, -4.31781016e-01],\n",
              "       [ 8.39029281e-01, -4.45869726e-01],\n",
              "       [-3.54434804e-01, -3.86905866e-01],\n",
              "       [ 8.39029281e-01, -4.89179463e-01],\n",
              "       [-3.54434804e-01, -4.31781016e-01],\n",
              "       [-3.54434804e-01, -1.08262496e-01],\n",
              "       [-1.54789889e+00,  5.37296795e-01],\n",
              "       [ 8.39029281e-01, -4.82917814e-01],\n",
              "       [-3.54434804e-01, -3.48292366e-01],\n",
              "       [ 8.39029281e-01, -4.88657659e-01],\n",
              "       [-1.54789889e+00,  9.82656564e-01],\n",
              "       [-1.54789889e+00,  2.51223752e+00]])"
            ]
          },
          "metadata": {},
          "execution_count": 20
        }
      ]
    },
    {
      "cell_type": "code",
      "source": [],
      "metadata": {
        "id": "wOL3aooWfSPm"
      },
      "execution_count": null,
      "outputs": []
    }
  ]
}